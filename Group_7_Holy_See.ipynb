{
 "cells": [
  {
   "cell_type": "markdown",
   "metadata": {},
   "source": [
    "<h4><b>Kyle Joseph O. Timajo</b></h4>\n",
    "<h4><b>Kenneth G. Popera</b></h4>\n",
    "<h4><b>Cedric Val U. Baja</b></h4>\n",
    "<h4>BSIT-4R6 | December 08, 2021</h4>\n",
    "---"
   ]
  },
  {
   "cell_type": "markdown",
   "metadata": {},
   "source": [
    "<h3><b>Download the pdf file and extract the text of your assigned country.</b></h3>"
   ]
  },
  {
   "cell_type": "code",
   "execution_count": 65,
   "metadata": {},
   "outputs": [],
   "source": [
    "import nltk\n",
    "import re\n",
    "import pdfplumber"
   ]
  },
  {
   "cell_type": "code",
   "execution_count": 66,
   "metadata": {},
   "outputs": [],
   "source": [
    "pdf = pdfplumber.open('UN-GENASS-4R6.pdf')\n",
    "holy_see_pages = []\n",
    "holy_see_text = ''\n",
    "for x in range(6, 12):\n",
    "    page = pdf.pages[x].extract_text()\n",
    "    holy_see_pages.append(page)\n",
    "    holy_see_text += page\n",
    "\n",
    "holy_see_sentences = holy_see_text.split('.')"
   ]
  },
  {
   "cell_type": "markdown",
   "metadata": {},
   "source": [
    "<h3><b>Perform the following.</b></h3>"
   ]
  },
  {
   "cell_type": "markdown",
   "metadata": {},
   "source": [
    "<h4>Text Normalization by sentence</h4>"
   ]
  },
  {
   "cell_type": "markdown",
   "metadata": {},
   "source": [
    "- Tokenize Text"
   ]
  },
  {
   "cell_type": "code",
   "execution_count": 67,
   "metadata": {},
   "outputs": [],
   "source": [
    "def tokenizeText2(text):\n",
    "    word_tokens = nltk.word_tokenize(text)\n",
    "    return word_tokens"
   ]
  },
  {
   "cell_type": "markdown",
   "metadata": {},
   "source": [
    "- Remove Punctuation"
   ]
  },
  {
   "cell_type": "code",
   "execution_count": 68,
   "metadata": {},
   "outputs": [],
   "source": [
    "def remove_punct(my_str):\n",
    "    punctuations = '''!()-[]{};:'.'\"\\,<>./?@#$%^-&_0123456789~*'''\n",
    "\n",
    "    no_punct = \"\"\n",
    "\n",
    "    for char in my_str:\n",
    "        if char not in punctuations:\n",
    "            no_punct = no_punct + char\n",
    "    return no_punct"
   ]
  },
  {
   "cell_type": "markdown",
   "metadata": {},
   "source": [
    "- Remove Repeated Characters"
   ]
  },
  {
   "cell_type": "code",
   "execution_count": 69,
   "metadata": {},
   "outputs": [],
   "source": [
    "from nltk.corpus import wordnet"
   ]
  },
  {
   "cell_type": "code",
   "execution_count": 70,
   "metadata": {},
   "outputs": [],
   "source": [
    "def removeReapeatedCharacters(tokens):\n",
    "    repeatPattern = re.compile(r'(\\w*)(\\w)\\2(\\w*)')\n",
    "    matchSubstitution = r'\\1\\2\\3'\n",
    "    def replace(oldWord):\n",
    "        if wordnet.synsets(oldWord):\n",
    "            return(oldWord)\n",
    "        newWord = repeatPattern.sub(matchSubstitution, oldWord)\n",
    "        return replace(newWord) if newWord != oldWord else newWord\n",
    "    correctTokens = [replace(word) for word in tokens]\n",
    "    return correctTokens"
   ]
  },
  {
   "cell_type": "markdown",
   "metadata": {},
   "source": [
    "- Word Contaction"
   ]
  },
  {
   "cell_type": "code",
   "execution_count": 71,
   "metadata": {},
   "outputs": [],
   "source": [
    "CONTRACTION_MAP = {\n",
    "\"ain't\": \"is not\",\n",
    "\"aren't\": \"are not\",\n",
    "\"can't\": \"cannot\",\n",
    "\"can't've\": \"cannot have\",\n",
    "\"'cause\": \"because\",\n",
    "\"could've\": \"could have\",\n",
    "\"couldn't\": \"could not\",\n",
    "\"couldn't've\": \"could not have\",\n",
    "\"didn't\": \"did not\",\n",
    "\"doesn't\": \"does not\",\n",
    "\"don't\": \"do not\",\n",
    "\"hadn't\": \"had not\",\n",
    "\"hadn't've\": \"had not have\",\n",
    "\"hasn't\": \"has not\",\n",
    "\"haven't\": \"have not\",\n",
    "\"he'd\": \"he would\",\n",
    "\"he'd've\": \"he would have\",\n",
    "\"he'll\": \"he will\",\n",
    "\"he'll've\": \"he will have\",\n",
    "\"he's\": \"he is\",\n",
    "\"how'd\": \"how did\",\n",
    "\"how'd'y\": \"how do you\",\n",
    "\"how'll\": \"how will\",\n",
    "\"how's\": \"how is\",\n",
    "\"I'd\": \"I would\",\n",
    "\"I'd've\": \"I would have\",\n",
    "\"I'll\": \"I will\",\n",
    "\"I'll've\": \"I will have\",\n",
    "\"I'm\": \"I am\",\n",
    "\"I've\": \"I have\",\n",
    "\"i'd\": \"i would\",\n",
    "\"i'd've\": \"i would have\",\n",
    "\"i'll\": \"i will\",\n",
    "\"i'll've\": \"i will have\",\n",
    "\"i'm\": \"i am\",\n",
    "\"i've\": \"i have\",\n",
    "\"isn't\": \"is not\",\n",
    "\"it'd\": \"it would\",\n",
    "\"it'd've\": \"it would have\",\n",
    "\"it'll\": \"it will\",\n",
    "\"it'll've\": \"it will have\",\n",
    "\"it's\": \"it is\",\n",
    "\"let's\": \"let us\",\n",
    "\"ma'am\": \"madam\",\n",
    "\"mayn't\": \"may not\",\n",
    "\"might've\": \"might have\",\n",
    "\"mightn't\": \"might not\",\n",
    "\"mightn't've\": \"might not have\",\n",
    "\"must've\": \"must have\",\n",
    "\"mustn't\": \"must not\",\n",
    "\"mustn't've\": \"must not have\",\n",
    "\"needn't\": \"need not\",\n",
    "\"needn't've\": \"need not have\",\n",
    "\"o'clock\": \"of the clock\",\n",
    "\"oughtn't\": \"ought not\",\n",
    "\"oughtn't've\": \"ought not have\",\n",
    "\"shan't\": \"shall not\",\n",
    "\"sha'n't\": \"shall not\",\n",
    "\"shan't've\": \"shall not have\",\n",
    "\"she'd\": \"she would\",\n",
    "\"she'd've\": \"she would have\",\n",
    "\"she'll\": \"she will\",\n",
    "\"she'll've\": \"she will have\",\n",
    "\"she's\": \"she is\",\n",
    "\"should've\": \"should have\",\n",
    "\"shouldn't\": \"should not\",\n",
    "\"shouldn't've\": \"should not have\",\n",
    "\"so've\": \"so have\",\n",
    "\"so's\": \"so as\",\n",
    "\"that'd\": \"that would\",\n",
    "\"that'd've\": \"that would have\",\n",
    "\"that's\": \"that is\",\n",
    "\"there'd\": \"there would\",\n",
    "\"there'd've\": \"there would have\",\n",
    "\"there's\": \"there is\",\n",
    "\"they'd\": \"they would\",\n",
    "\"they'd've\": \"they would have\",\n",
    "\"they'll\": \"they will\",\n",
    "\"they'll've\": \"they will have\",\n",
    "\"they're\": \"they are\",\n",
    "\"they've\": \"they have\",\n",
    "\"to've\": \"to have\",\n",
    "\"wasn't\": \"was not\",\n",
    "\"we'd\": \"we would\",\n",
    "\"we'd've\": \"we would have\",\n",
    "\"we'll\": \"we will\",\n",
    "\"we'll've\": \"we will have\",\n",
    "\"we're\": \"we are\",\n",
    "\"we've\": \"we have\",\n",
    "\"weren't\": \"were not\",\n",
    "\"what'll\": \"what will\",\n",
    "\"what'll've\": \"what will have\",\n",
    "\"what're\": \"what are\",\n",
    "\"what's\": \"what is\",\n",
    "\"what've\": \"what have\",\n",
    "\"when's\": \"when is\",\n",
    "\"when've\": \"when have\",\n",
    "\"where'd\": \"where did\",\n",
    "\"where's\": \"where is\",\n",
    "\"where've\": \"where have\",\n",
    "\"who'll\": \"who will\",\n",
    "\"who'll've\": \"who will have\",\n",
    "\"who's\": \"who is\",\n",
    "\"who've\": \"who have\",\n",
    "\"why's\": \"why is\",\n",
    "\"why've\": \"why have\",\n",
    "\"will've\": \"will have\",\n",
    "\"won't\": \"will not\",\n",
    "\"won't've\": \"will not have\",\n",
    "\"would've\": \"would have\",\n",
    "\"wouldn't\": \"would not\",\n",
    "\"wouldn't've\": \"would not have\",\n",
    "\"y'all\": \"you all\",\n",
    "\"y'all'd\": \"you all would\",\n",
    "\"y'all'd've\": \"you all would have\",\n",
    "\"y'all're\": \"you all are\",\n",
    "\"y'all've\": \"you all have\",\n",
    "\"you'd\": \"you would\",\n",
    "\"you'd've\": \"you would have\",\n",
    "\"you'll\": \"you will\",\n",
    "\"you'll've\": \"you will have\",\n",
    "\"you're\": \"you are\",\n",
    "\"you've\": \"you have\"\n",
    "\n",
    "}"
   ]
  },
  {
   "cell_type": "markdown",
   "metadata": {},
   "source": [
    "- Expand Contractions"
   ]
  },
  {
   "cell_type": "code",
   "execution_count": 72,
   "metadata": {},
   "outputs": [],
   "source": [
    "def expand_contractions(text, contraction_mapping=CONTRACTION_MAP):\n",
    "    \n",
    "    contractions_pattern = re.compile('({})'.format('|'.join(contraction_mapping.keys())), \n",
    "                                      flags=re.IGNORECASE|re.DOTALL)\n",
    "    def expand_match(contraction):\n",
    "        print(contraction)\n",
    "        match = contraction.group(0)\n",
    "        print(match)\n",
    "        first_char = match[0]\n",
    "        print(first_char)\n",
    "        expanded_contraction = contraction_mapping.get(match) if contraction_mapping.get(match) else contraction_mapping.get(match.lower())   \n",
    "        print(expanded_contraction)\n",
    "        expanded_contraction = first_char+expanded_contraction[1:]\n",
    "        return expanded_contraction\n",
    "        \n",
    "    expanded_text = contractions_pattern.sub(expand_match, text)\n",
    "    expanded_text = re.sub(\"'\", \"\", expanded_text)\n",
    "    return expanded_text"
   ]
  },
  {
   "cell_type": "markdown",
   "metadata": {},
   "source": [
    "- Stopwords Removal"
   ]
  },
  {
   "cell_type": "code",
   "execution_count": 73,
   "metadata": {},
   "outputs": [],
   "source": [
    "from nltk.corpus import stopwords"
   ]
  },
  {
   "cell_type": "code",
   "execution_count": 74,
   "metadata": {},
   "outputs": [],
   "source": [
    "myWordDictionary = []\n",
    "def remove_stopwords_orig(text):\n",
    "    data = text\n",
    "    stopWords = set(stopwords.words('english'))\n",
    "    words = data\n",
    "    \n",
    "    wordsFiltered = []\n",
    "    for w in words:\n",
    "        if w not in stopWords:\n",
    "            myWordDictionary.append(w)\n",
    "            wordsFiltered.append(w)\n",
    "            wordsFiltered.append(' ')\n",
    "           \n",
    "    return \"\".join(wordsFiltered)\n"
   ]
  },
  {
   "cell_type": "markdown",
   "metadata": {},
   "source": [
    "- Check Spelling"
   ]
  },
  {
   "cell_type": "code",
   "execution_count": 75,
   "metadata": {},
   "outputs": [],
   "source": [
    "from autocorrect import Speller\n",
    "checkSpelling = Speller(lang='en')"
   ]
  },
  {
   "cell_type": "code",
   "execution_count": 76,
   "metadata": {},
   "outputs": [
    {
     "name": "stdout",
     "output_type": "stream",
     "text": [
      "['aadd ', 'holy see see also apv ', 'annex ii address holiness pope francis delivered friday september th meeting general assembly original spanish english translation provided delegation mr ', 'president peace offer cordial greetings mr president delegations taking part significant seventyfifth session united nations general assembly ', 'particular greet secretary general mr antónio guerre participating heads state government following general debate ', 'seventyfifth anniversary united nations offers fitting occasion express holy see ’ desire organization increasingly serve sign unity states instrument service entire human family ', 'days world continues impacted covid pandemic led loss many lives ', 'crisis changing way life calling question economic health social systems exposing human facility ', 'pandemic indeed calls us “ seize time trial time choosing time choose matters passes away time separate necessary ” ', 'represent concrete opportunity conversion transformation rethinking way life economic social systems widening gap rich poor based unjust distribution resources ', 'hand pandemic occasion “ defensive retreat ” greater individualism elitist ', 'faced choice two possible paths ', 'one path leads consolidation multilateralism expression renewed sense global coresponsibility solidarity grounded justice attainment peace unity within human family god ’ plan world ', 'path emphasizes selfsufficiency nationalism protections individualism isolation excludes poor vulnerable dwelling peripherals life ', 'path would certainly detrimental whole community causing selfinflicted wounds everyone ', 'must prevail ', 'pandemic highlighted urgent need promote public health make every person ’ right basic medical care reality ', 'reason renew appeal political leaders private sector spare effort ensure access covid vaccines essential technologies needed care sick ', 'anyone given preference let poorest vulnerable often experience discrimination neither power economic resources ', 'address general assembly united nations september benedict xvi address general assembly united nations april ', 'meditation extraordinary moment prayer time pandemic march ', 'universal declaration human rights article ', '', 'aadd ', 'current crisis also demonstrated solidarity must empty word promise ', 'also shown us importance avoiding every temptation exceed natural limits ', '“ freedom needed limit direct technology put service another type progress one healthier human social integral ” ', 'also needs taken careful consideration discussions complex issue artificial intelligence ai ', 'along lines think effects pandemic employment sector already stabilized labour market driven increasing uncertainty widespread robotization ', 'urgent need find new forms work truly capable fulfilling human potential affirming dignity ', 'order ensure dignified employment must change prevailing economic paradigm seeks expand companies ’ profits ', 'offering jobs people one main objectives every business one criteria success productive activity ', 'technological progress valuable necessary provided serves make people ’ work dignified safe less burdensome stressful ', 'calls change direction ', 'achieve already possess necessary cultural technological resources social awareness ', 'change direction require however robust ethical framework capable overcoming “ today ’ widespread quietly growing culture waste ” ', 'origin “ throwaway culture ” gross lack respect human dignity promotion ideologies seductive understandings human person denial universality fundamental human rights craving absolute power control widespread today ’ society ', 'let us name attack humanity ', 'fact painful see number fundamental human rights day continue violated impunity ', 'list violations indeed lengthy offers us frightening picture humanity abused wounded deprived dignity freedom hope future ', 'part picture religious believers continue endure every kind persecution including genocide beliefs ', 'christians victims many brothers sisters throughout world suffering forced times flee ancestral lands cut rich history culture ', 'also admit humanitarian crises become status quo people ’ right life liberty personal security protected ', 'indeed shown conflicts worldwide use explosive weapons especially populated areas dramatic longterm humanitarian impact ', 'conventional weapons becoming less less “ conventional ” “ weapons mass destruction ” breaking havoc cities schools hospitals religious sites infrastructures basic services needed population ', 'great numbers people forced leave homes ', 'refugees migrants internally displaced frequently find abandoned countries origin transit destination deprived chance better situation life families ', 'worse still thousands intercepted sea forcibly returned detention camps meet torture abuse ', 'many become victims human trafficking sexual slavery forced encyclical letter laudato si ’ ', 'address general assembly united nations organization september ', 'aadd ', 'labour exploited degrading jobs denied wage ', 'intolerable yet intentionally ignored many numerous significant international efforts respond crises begin great promise — think two global compact refugees migration — yet many lack necessary political support prove successful ', 'others fail individual states shirt responsibilities commitments ', 'current crisis offers opportunity united nations help build fraternal compassionate society ', 'includes considering role economic financial institutions like bretonwoods must respond rapidly growing inequality superrich permanently poor ', 'economic model encourages subsidiary supports economic development local level invests education infrastructure benefiting local communities lay foundation economic success also renewal larger community nation ', 'would renew appeal “ light present circumstances… nations enabled meet greatest needs moment reduction forgiveness debt burning balance sheets poorest nations ” ', 'international community ought make every effort put end economic injustices ', '“ multilateral credit organizations provide advice various nations important keep mind lofty concepts fiscal justice public budgets responsible indebtedness effective promotion poorest makes protagonists social network ', '” responsibility offer development assistance poor nations debt relief highly indebted nations ', '“ new ethics presupposes aware need everyone work together close tax shelters avoid evasion money laundering rob society well speak nations importance defending justice common good interests powerful companies multinational ', '” fitting time renew architecture international finance ', 'mr ', 'president five years ago opportunity address general assembly person seventeenth anniversary ', 'visit took place time marked truly dynamic multilateralism ', 'moment great hope promise international community eve adoption agenda sustainable development ', 'months later paris agreement climate change also adopted ', 'yet must honestly admit even though progress made international community shown largely incapable honouring uri et orbit message april ', 'address participants seminar “ new forms solidarity ” february ', 'ibid ', 'cf ', 'ibid ', 'aadd ', 'promises made five years ago ', 'reiterate “ must avoid every temptation fall declarations nominals would assume conscience ', 'need ensure institutions truly effective struggle sources ” ', 'think alarming situation amazon indigenous peoples ', 'see environmental crisis inseparable linked social crisis caring environment calls integrated approach combating poverty exclusion ', 'sure growth integral ecological sensitivity desire action positive step ', '“ must place burden next generations take problems caused previous ones… must seriously ask political allocate honesty responsibility courage human financial technological resources mitigate negative effects climate change well help poorest vulnerable populations suffer ', '” holy see continue play part ', 'concrete sign holy see ’ commitment care common home recently ratified kigali amendment montreal protocol ', 'mr ', 'president fail acknowledge devastating effects covid crisis children including unaccompanied young migrants refugees ', 'violence children including horrible score child abuse pornography also dramatically increased ', 'millions children presently unable return school ', 'many parts world situation risks leading increase child labour exploitation abuse malnutrition ', 'sad say countries international institutions also promoting abortion one socalled “ essential services ” provided humanitarian response pandemic ', 'troubling see simple convenient become deny existence human life solution problems must solved mother unborn child ', 'urge civil authorities especially attentive children denied fundamental rights dignity particularly right life schooling ', 'help think appeal courageous young woman masala yousafzai speaking five years ago general assembly reminded us “ one child one teacher one book one pen change world ” ', 'first teachers every child mother father family universal declaration human rights describes “ natural fundamental group unit society ” ', 'often family victim forms ideological colonialism weaken end producing many members especially vulnerable young elderly feeling address general assembly united nations organization september ', 'encyclical letter laudato si ’ ', 'message participants twentyfifth session conference states parties united nations framework convention climate change december ', 'message thirtyfirst meeting parties montreal protocol november ', 'universal declaration human rights article ', '', 'aadd ', 'orphaned lacking roots ', 'breakdown family reflected social fragmentation hinder efforts confront common enemies ', 'time assess commit achieving goals ', 'one goal advancement women ', 'year marks twentyfifth anniversary beijing conference women ', 'every level society women play important role offering singular contribution courageous promoting common good ', 'many women however continue left behind victims slavery trafficking violence exploitation degrading treatment ', 'forced live apart families express fraternal closeness ', 'time appeal greater determination commitment fight venous practices debate women humanity silence lack effective action becomes accomplice ', 'mr ', 'president must ask principal threats peace security – poverty epidemics terrorism many others – effectively countered arms race including nuclear weapons continues slander precious resources could better used benefit integral development peoples protect natural environment ', 'need break present climate distrust ', 'present witnessing erosion multilateralism serious light development new forms military technology lethal autonomous weapons systems laws irreversible alter nature warfare teaching human agency ', 'need dismantle perverse logic links personal national security possession weaponry ', 'logic serves increase profits arms industry fostering climate distrust fear persons peoples ', 'nuclear deterrence particular creates ethos fear based threat mutual annihilation way ends poisoning relationships peoples obstructing dialogue ', 'important support principal international legal instruments nuclear disarmament nonproliferation prohibition ', 'holy see trusts forthcoming review conference parties treaty nonproliferation nuclear weapons result concrete action accordance joint intention “ achieve earliest possible date cessation nuclear arms race undertake effective measures direction nuclear disarmament ” ', 'addition striferidden world needs united nations become ever effective international workshop peace ', 'means members security council especially permanent members must act greater unity determination ', 'regard recent adoption global ceasefire present crisis noble step one demands good part continued implementation ', 'would also reiterate importance address nuclear weapons atomic bomb hypocenter park nagasaki november ', 'ibid ', 'treaty nonproliferation nuclear weapons preamble ', 'aadd ', 'relaxing international sanctions make difficult states provide adequate support citizens ', 'mr ', 'president never emerge crisis ', 'come either better worse ', 'critical juncture duty rethink future common home common project ', 'complex task lies us one requires frank coherent dialogue aimed strengthening multilateralism cooperation states ', 'present crisis demonstrated limits selfsufficiency well common vulnerability ', 'forced us think clearly want emerge either better worse ', 'pandemic shown us live without one another worse still pitted one another ', 'united nations established bring nations together bridge peoples ', 'let us make good use institution order transform challenge lies us opportunity build together future desire ', 'god bless thank mr ', 'president ', '']\n"
     ]
    }
   ],
   "source": [
    "normalized_sentences = []\n",
    "for y in holy_see_sentences:\n",
    "    y = checkSpelling(y.lower())\n",
    "    expandedText = expand_contractions(y)\n",
    "    remPunct = remove_punct(expandedText)\n",
    "    tokenList  = tokenizeText2(remPunct)\n",
    "    newWordList = remove_stopwords_orig(tokenList)\n",
    "    normalized_sentences.append(newWordList)\n",
    "print(normalized_sentences)"
   ]
  },
  {
   "cell_type": "markdown",
   "metadata": {},
   "source": [
    "<h4>Create 1 whole list of your TOKENIZED AND NORMALIZED text data per sentence , and save it as a one(1) csv file. No particular order is needed. Just save the cleaned data into a csv file.</h4>"
   ]
  },
  {
   "cell_type": "code",
   "execution_count": 77,
   "metadata": {},
   "outputs": [],
   "source": [
    "import pandas as pd"
   ]
  },
  {
   "cell_type": "code",
   "execution_count": 78,
   "metadata": {},
   "outputs": [],
   "source": [
    "normalized_sentences_dict = {'Normalized Sentences': normalized_sentences}\n",
    "data_frame = pd.DataFrame(normalized_sentences_dict)\n",
    "data_frame.to_csv('holy_see_normalized_sentences.csv')"
   ]
  },
  {
   "cell_type": "markdown",
   "metadata": {},
   "source": [
    "<h4>Extract the first 20 sentences and then save it as pdf file and upload here. Submit as a group.</h4>"
   ]
  },
  {
   "cell_type": "code",
   "execution_count": 79,
   "metadata": {},
   "outputs": [],
   "source": [
    "from fpdf import FPDF"
   ]
  },
  {
   "cell_type": "code",
   "execution_count": 80,
   "metadata": {},
   "outputs": [
    {
     "data": {
      "text/plain": [
       "''"
      ]
     },
     "execution_count": 80,
     "metadata": {},
     "output_type": "execute_result"
    }
   ],
   "source": [
    "first_twenty_sentences = normalized_sentences[:20]\n",
    "first_twenty_sentences = ' '.join(first_twenty_sentences)\n",
    "first_twenty_sentences = first_twenty_sentences.encode('latin-1', 'replace').decode('latin-1')\n",
    "\n",
    "pdf = FPDF(orientation = 'P', unit = 'mm', format='A4')\n",
    "pdf.add_page()\n",
    "pdf.set_font('Arial', size = 12)\n",
    "pdf.multi_cell(0, 10, first_twenty_sentences)\n",
    "pdf.output('Holy_See_First_20_Sentences.pdf')"
   ]
  }
 ],
 "metadata": {
  "interpreter": {
   "hash": "e304330cde09e27e1568fa377d5c59942e81145071ac67006de7f319629e71ea"
  },
  "kernelspec": {
   "display_name": "Python 3.9.7 64-bit",
   "language": "python",
   "name": "python3"
  },
  "language_info": {
   "codemirror_mode": {
    "name": "ipython",
    "version": 3
   },
   "file_extension": ".py",
   "mimetype": "text/x-python",
   "name": "python",
   "nbconvert_exporter": "python",
   "pygments_lexer": "ipython3",
   "version": "3.9.7"
  },
  "orig_nbformat": 4
 },
 "nbformat": 4,
 "nbformat_minor": 2
}
